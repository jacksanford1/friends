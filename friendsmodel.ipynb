{
 "cells": [
  {
   "cell_type": "markdown",
   "metadata": {},
   "source": [
    "# Training the model\n",
    "\n",
    "We utilize Kaggle's free GPU to train a model with 1 convolutional layer, 2 GRU layers and a dense layer. Because there is so much laughter in the show, we are able to use accuracy as our metric to optimize. However, we also pay close attention to precision and recall as well as F1 score. "
   ]
  },
  {
   "cell_type": "code",
   "execution_count": null,
   "metadata": {
    "_cell_guid": "b1076dfc-b9ad-4769-8c92-a6c4dae69d19",
    "_uuid": "8f2839f25d086af736a60e9eeb907d3b93b6e0e5"
   },
   "outputs": [],
   "source": [
    "import numpy as np\n",
    "from sklearn.model_selection import train_test_split\n",
    "import matplotlib.pyplot as plt"
   ]
  },
  {
   "cell_type": "markdown",
   "metadata": {},
   "source": [
    "### Checking our data sources"
   ]
  },
  {
   "cell_type": "code",
   "execution_count": null,
   "metadata": {},
   "outputs": [],
   "source": [
    "import os\n",
    "print(os.listdir(\"../input/\"))"
   ]
  },
  {
   "cell_type": "markdown",
   "metadata": {},
   "source": [
    "### Loading X and y inputs (we created these in the friendsaudio notebook)"
   ]
  },
  {
   "cell_type": "code",
   "execution_count": null,
   "metadata": {
    "_cell_guid": "79c7e3d0-c299-4dcb-8224-4455121ee9b0",
    "_uuid": "d629ff2d2480ee46fbb7e2d37f6b5fab8052498a"
   },
   "outputs": [],
   "source": [
    "# Load X and Y files\n",
    "prexfolder = '/kaggle/input/friendsaudio/prex/'\n",
    "preyfolder = '/kaggle/input/friendsaudio/prey/'\n",
    "\n",
    "loadedX = np.load(prexfolder + 'prex.txt.npy')\n",
    "loadedY = np.load(preyfolder + 'prey.txt.npy')\n",
    "print(\"Shape of X is \" + str(loadedX.shape))\n",
    "print(\"Shape of Y is \" + str(loadedY.shape))\n",
    "\n"
   ]
  },
  {
   "cell_type": "markdown",
   "metadata": {},
   "source": [
    "### Getting train, dev, test sets\n",
    "\n",
    "We split X and y into 60% train, 20% dev and 20% test sets. "
   ]
  },
  {
   "cell_type": "code",
   "execution_count": null,
   "metadata": {},
   "outputs": [],
   "source": [
    "# Getting train, dev, test sets\n",
    "\n",
    "X = loadedX\n",
    "y = loadedY\n",
    "\n",
    "# splitting train (80%) and test (20%)\n",
    "X_train, X_test, y_train, y_test = train_test_split(X, y, test_size=0.2, random_state=1)\n",
    "\n",
    "# Taking train (80%) and removing 25% to create val (20% overall) and leaves train at 60% overall\n",
    "X_train, X_dev, y_train, y_dev = train_test_split(X_train, y_train, test_size=0.25, random_state=1)\n",
    "\n",
    "print(\"Shape of X_train and y_train are \" + str(X_train.shape) + \", \" +  str(y_train.shape))\n",
    "print(\"Shape of X_dev and y_dev are \" + str(X_dev.shape) + \", \" +  str(y_dev.shape))\n",
    "print(\"Shape of X_test and y_test are \" + str(X_test.shape) + \", \" +  str(y_test.shape))"
   ]
  },
  {
   "cell_type": "code",
   "execution_count": null,
   "metadata": {},
   "outputs": [],
   "source": [
    "from keras.callbacks import ModelCheckpoint\n",
    "from keras.models import Model, load_model, Sequential\n",
    "from keras.layers import Dense, Activation, Dropout, Input, Masking, TimeDistributed, LSTM, Conv1D\n",
    "from keras.layers import GRU, Bidirectional, BatchNormalization, Reshape\n",
    "from keras.optimizers import Adam\n",
    "from keras.metrics import Precision, Recall"
   ]
  },
  {
   "cell_type": "markdown",
   "metadata": {},
   "source": [
    "### Define model\n",
    "\n",
    "Here we define our model and some hyperparameters. Did a lot of guess-and-check work with different ordering, different hyperparameters and different layers. This model turned out to be the best out of all the models tested. "
   ]
  },
  {
   "cell_type": "code",
   "execution_count": null,
   "metadata": {},
   "outputs": [],
   "source": [
    "def model(input_shape):\n",
    "    \n",
    "    X_input = Input(shape = input_shape)\n",
    "    \n",
    "    # Convolution layer\n",
    "    X = Conv1D(filters=256,kernel_size=15,strides=1)(X_input)\n",
    "    X = BatchNormalization()(X)\n",
    "    X = output_x = Activation(\"relu\")(X)\n",
    "    X = Dropout(rate=0.8)(X)\n",
    "    \n",
    "    # GRU Layer 1\n",
    "    X = GRU(units=256, return_sequences = True)(X)\n",
    "    X = Dropout(rate=0.8)(X)\n",
    "    X = BatchNormalization()(X)\n",
    "    \n",
    "    # GRU Layer 2\n",
    "    X = GRU(units=256, return_sequences = True)(X)\n",
    "    X = Dropout(rate=0.8)(X)\n",
    "    X = BatchNormalization()(X)\n",
    "    X = Dropout(rate=0.8)(X)\n",
    "    \n",
    "    # Time-Distributed Dense Layer with Sigmoid\n",
    "    X = TimeDistributed(Dense(1, activation = \"sigmoid\"))(X)\n",
    "    \n",
    "    model = Model(inputs = X_input, outputs = X)\n",
    "    \n",
    "    return model\n",
    "    "
   ]
  },
  {
   "cell_type": "markdown",
   "metadata": {},
   "source": [
    "### Telling the model what the input shape of the data will be."
   ]
  },
  {
   "cell_type": "code",
   "execution_count": null,
   "metadata": {},
   "outputs": [],
   "source": [
    "model = model(input_shape = (X_train.shape[1], X_train.shape[2]))"
   ]
  },
  {
   "cell_type": "markdown",
   "metadata": {},
   "source": [
    "### Making sure we are getting the right input/output shapes we expect in every layer."
   ]
  },
  {
   "cell_type": "code",
   "execution_count": null,
   "metadata": {},
   "outputs": [],
   "source": [
    "model.summary()"
   ]
  },
  {
   "cell_type": "markdown",
   "metadata": {},
   "source": [
    "### Using Adam for gradient descent optimization"
   ]
  },
  {
   "cell_type": "code",
   "execution_count": null,
   "metadata": {},
   "outputs": [],
   "source": [
    "opt = Adam(lr=0.0001, beta_1=0.9, beta_2=0.999, decay=0.01)\n",
    "model.compile(loss='binary_crossentropy', optimizer=opt, metrics=[\"accuracy\", Precision(), Recall()])"
   ]
  },
  {
   "cell_type": "markdown",
   "metadata": {},
   "source": [
    "### Training the model\n",
    "\n",
    "For our final model weights, we trained for 100 epochs (took around 5-6 hours). But for testing different layers and hyperparameters, 15 epochs was plenty to give a sense of how a model would perform. "
   ]
  },
  {
   "cell_type": "code",
   "execution_count": null,
   "metadata": {},
   "outputs": [],
   "source": [
    "# Train model\n",
    "model.fit(X_train, y_train, batch_size = 32, epochs = 15)"
   ]
  },
  {
   "cell_type": "markdown",
   "metadata": {},
   "source": [
    "### Dev set metrics\n",
    "\n",
    "Accuracy was the metric we optimized for. But it was helpful to see precision and recall to understand whether we were missing a lot of \"true\" laughter or labeling things that weren't laughter as laughter.  "
   ]
  },
  {
   "cell_type": "code",
   "execution_count": null,
   "metadata": {},
   "outputs": [],
   "source": [
    "# Test on dev set\n",
    "loss, acc, prec, recall = model.evaluate(X_dev, y_dev)\n",
    "F1 = 2 * ((prec * recall) / (prec + recall))\n",
    "print(\"Dev set accuracy = \", acc)\n",
    "print(\"Dev set precision = \", prec)\n",
    "print(\"Dev set recall = \", recall)\n",
    "print(\"Dev set F1 = \", F1)\n"
   ]
  },
  {
   "cell_type": "markdown",
   "metadata": {},
   "source": [
    "### Saving down model weights for predicting in another notebook"
   ]
  },
  {
   "cell_type": "code",
   "execution_count": null,
   "metadata": {},
   "outputs": [],
   "source": [
    "savefolder = '/kaggle/working/'\n",
    "\n",
    "model.save_weights(savefolder + 'rawaudiomodelweights.h5')"
   ]
  },
  {
   "cell_type": "markdown",
   "metadata": {},
   "source": [
    "### Looking at specific dev set examples\n",
    "\n",
    "It was helpful to look at specific 10-second clip examples to see exactly how the model was performing. Early on, it was getting all the laughter correct but it was labeling lots of things that weren't laughter as well. "
   ]
  },
  {
   "cell_type": "code",
   "execution_count": null,
   "metadata": {},
   "outputs": [],
   "source": [
    "numpick = 1\n",
    "example = X_dev[numpick]\n",
    "example = np.expand_dims(example, axis=0)\n",
    "preds = model.predict(example)\n",
    "probs = preds[0, :, 0]\n",
    "\n",
    "# probabilities graph\n",
    "plt.subplot(1, 1, 1)\n",
    "plt.plot(probs)\n",
    "plt.ylabel('probability')\n",
    "plt.show()\n",
    "\n",
    "binary = np.where(probs > 0.5, 1, 0)\n",
    "\n",
    "# binary preds graph\n",
    "plt.subplot(1, 1, 1)\n",
    "plt.plot(binary)\n",
    "plt.ylabel('binary preds')\n",
    "plt.show()\n",
    "\n",
    "actual = y_dev[numpick]\n",
    "\n",
    "# actuals graph\n",
    "plt.subplot(1, 1, 1)\n",
    "plt.plot(actual)\n",
    "plt.ylabel('actuals')\n",
    "plt.show()"
   ]
  },
  {
   "cell_type": "markdown",
   "metadata": {},
   "source": [
    "### Looking at specific examples in more depth\n",
    "\n",
    "This code allowed us to see the spectrogram alongside the labeled laughter. It became clear that when we inverted the audio track, it was much easier for the model to correctly label laughter. It was also much easier for the human eye to see laughter instances with an inverted audio track."
   ]
  },
  {
   "cell_type": "code",
   "execution_count": null,
   "metadata": {},
   "outputs": [],
   "source": [
    "from scipy.io import wavfile\n",
    "import IPython\n",
    "\n",
    "testclipfolder = '/kaggle/input/randomtestclips/'\n",
    "cliplist = os.listdir(testclipfolder)\n",
    "\n",
    "testnum = 7\n",
    "\n",
    "for i, clip in enumerate(cliplist):\n",
    "    if i == testnum:\n",
    "        filepath = testclipfolder + clip\n",
    "        IPython.display.display(IPython.display.Audio(filepath))\n",
    "        \n",
    "        FS, data = wavfile.read(filepath)\n",
    "        pxx, freqs, bins, im = plt.specgram(data, Fs=FS, NFFT=512, noverlap=0)\n",
    "        plt.show()\n",
    "        pxxtransposed = pxx.T\n",
    "        cliptopredict = np.expand_dims(pxxtransposed, axis=0)\n",
    "        testpreds = model.predict(cliptopredict)\n",
    "        testprobs = testpreds[0, :, 0]\n",
    "\n",
    "        # probabilities graph\n",
    "        plt.subplot(2, 1, 2)\n",
    "        plt.plot(testprobs)\n",
    "        plt.ylabel('something')\n",
    "        plt.show()\n",
    "\n",
    "        binary = np.where(testprobs > 0.5, 1, 0)\n",
    "\n",
    "        # binary preds graph\n",
    "        plt.subplot(2, 1, 2)\n",
    "        plt.plot(binary)\n",
    "        plt.ylabel('test binary preds')\n",
    "        plt.show()\n"
   ]
  }
 ],
 "metadata": {
  "kernelspec": {
   "display_name": "Python 3",
   "language": "python",
   "name": "python3"
  },
  "language_info": {
   "codemirror_mode": {
    "name": "ipython",
    "version": 3
   },
   "file_extension": ".py",
   "mimetype": "text/x-python",
   "name": "python",
   "nbconvert_exporter": "python",
   "pygments_lexer": "ipython3",
   "version": "3.7.4"
  }
 },
 "nbformat": 4,
 "nbformat_minor": 4
}
