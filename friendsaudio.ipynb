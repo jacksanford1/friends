{
 "cells": [
  {
   "cell_type": "markdown",
   "metadata": {},
   "source": [
    "# Audio Preprocessing\n",
    "\n",
    "Taking in the raw audio files for 20 episodes, processing and setting equal to X. Then taking the \"labels\" for laughter that I hand-made for each episode, and setting them equal to y. "
   ]
  },
  {
   "cell_type": "code",
   "execution_count": null,
   "metadata": {},
   "outputs": [],
   "source": [
    "!pip install pydub"
   ]
  },
  {
   "cell_type": "code",
   "execution_count": null,
   "metadata": {
    "_cell_guid": "b1076dfc-b9ad-4769-8c92-a6c4dae69d19",
    "_uuid": "8f2839f25d086af736a60e9eeb907d3b93b6e0e5"
   },
   "outputs": [],
   "source": [
    "from pydub import AudioSegment\n",
    "import os\n",
    "from scipy.io import wavfile\n",
    "import matplotlib.pyplot as plt\n",
    "import operator\n",
    "import numpy as np\n",
    "from sklearn.model_selection import train_test_split\n",
    "import shutil"
   ]
  },
  {
   "cell_type": "markdown",
   "metadata": {},
   "source": [
    "### Checking kaggle notebook folder for input data"
   ]
  },
  {
   "cell_type": "code",
   "execution_count": null,
   "metadata": {},
   "outputs": [],
   "source": [
    "print(os.listdir(\"../input/\"))"
   ]
  },
  {
   "cell_type": "markdown",
   "metadata": {},
   "source": [
    "### Deciding how long each clip should be, how many timesteps it should be split into, and how much overlap each clip should have. "
   ]
  },
  {
   "cell_type": "code",
   "execution_count": null,
   "metadata": {
    "_cell_guid": "79c7e3d0-c299-4dcb-8224-4455121ee9b0",
    "_uuid": "d629ff2d2480ee46fbb7e2d37f6b5fab8052498a"
   },
   "outputs": [],
   "source": [
    "# predtimesteps is dictated by model\n",
    "predtimesteps = 847\n",
    "cliplen = 10000\n",
    "lag = 0 # this will dictate overlap necessary\n",
    "overlap = round(((cliplen / predtimesteps) * lag) + 1) # rounding up to nearest ms here\n",
    "print(\"overlap in ms is \" + str(overlap))\n",
    "print(\"length of each timestep in ms is \" + str(cliplen / predtimesteps))"
   ]
  },
  {
   "cell_type": "markdown",
   "metadata": {},
   "source": [
    "### Defining folders"
   ]
  },
  {
   "cell_type": "code",
   "execution_count": null,
   "metadata": {},
   "outputs": [],
   "source": [
    "audiofolder = '/kaggle/input/labeledepisodes/'\n",
    "laughlabelsfolder = '/kaggle/input/laughlabels/'\n",
    "clipsfolder = '/kaggle/working/clips/'"
   ]
  },
  {
   "cell_type": "markdown",
   "metadata": {},
   "source": [
    "### Creating 10-sec wav clips out of episodes"
   ]
  },
  {
   "cell_type": "code",
   "execution_count": null,
   "metadata": {},
   "outputs": [],
   "source": [
    "if os.path.exists(clipsfolder):\n",
    "    # deletes clips folder and all clips inside\n",
    "    shutil.rmtree(clipsfolder)\n",
    "    # makes new empty clips folder\n",
    "    os.makedirs(clipsfolder)\n",
    "else:\n",
    "    os.makedirs(clipsfolder)\n",
    "\n",
    "for filename in os.listdir(audiofolder):\n",
    "    if not filename.startswith('.'):\n",
    "        season = filename[9:11]\n",
    "        episode = filename[12:14]\n",
    "        filepath = audiofolder + filename\n",
    "        file = AudioSegment.from_file(filepath)\n",
    "#         print(\"Length of file is \" + str(len(file)))\n",
    "\n",
    "        startcut = 0\n",
    "        endcut = startcut + cliplen\n",
    "        count = 1\n",
    "\n",
    "        while startcut < len(file):\n",
    "            #create clip here\n",
    "            clip = file[startcut:endcut]\n",
    "            if len(clip) < cliplen:\n",
    "                break\n",
    "            else:\n",
    "                clip.export(clipsfolder + \"s\" + str(season) + \"e\" + str(episode) + \"n\" + str(count) + \"beg\" + str(startcut) + \"end\" + str(endcut) + \".wav\", format=\"wav\")\n",
    "\n",
    "\n",
    "\n",
    "#             print(\"clip num is \" + str(count))\n",
    "#             print(\"clip start is \" + str(startcut))\n",
    "#             print(\"clip end is \" + str(endcut))\n",
    "#             print(\"clip len is \" + str(len(clip)))\n",
    "            #increment values for next clip\n",
    "            startcut += (cliplen - overlap)\n",
    "            endcut = min(startcut + cliplen, len(file))\n",
    "            count += 1"
   ]
  },
  {
   "cell_type": "markdown",
   "metadata": {},
   "source": [
    "### Sorting all clips by episode and beginning timestep"
   ]
  },
  {
   "cell_type": "code",
   "execution_count": null,
   "metadata": {},
   "outputs": [],
   "source": [
    "listtosort = []\n",
    "\n",
    "for filename in os.listdir(clipsfolder):\n",
    "    if not filename.startswith('.'):\n",
    "        season = int(filename[1:3])\n",
    "        episode = int(filename[4:6])\n",
    "        findbegstart = filename.find(\"beg\")\n",
    "        findendstart = filename.find(\"end\")\n",
    "        findendend = filename.find(\".\")\n",
    "        begtimestart = findbegstart + 3\n",
    "        endtimestart = findendstart + 3\n",
    "        begtime = int(filename[begtimestart:findendstart])\n",
    "        endtime = int(filename[endtimestart:findendend])\n",
    "        listtosort.append([season, episode, begtime, endtime, filename])\n",
    "\n",
    "\n",
    "sortedclips = sorted(listtosort, key = operator.itemgetter(0, 1, 2))\n",
    "# print(sortedclips)"
   ]
  },
  {
   "cell_type": "markdown",
   "metadata": {},
   "source": [
    "### Preprocessing X\n",
    "\n",
    "Turning 10-second clip into spectrogram data. Splitting clip into defined number of timesteps and frequencies. Getting each clip into the right shape to be fed into the model. "
   ]
  },
  {
   "cell_type": "code",
   "execution_count": null,
   "metadata": {},
   "outputs": [],
   "source": [
    "# Creating X numpy array of shape (number of clips, number of frequencies, number of spectrogram timesteps)\n",
    "\n",
    "count = 0\n",
    "\n",
    "for info in sortedclips:\n",
    "    clipfilename = info[4]\n",
    "    clipfilepath = clipsfolder + clipfilename\n",
    "    FS, data = wavfile.read(clipfilepath) # read wav file\n",
    "    channelcount = data.ndim\n",
    "#     print(\"Number of channels is \" + str(data.ndim))\n",
    "    if channelcount == 1:\n",
    "        pxx, freqs, bins, im = plt.specgram(data, Fs=FS, NFFT=512, noverlap=0)  # building plot and spectrogram\n",
    "    elif channelcount == 2:\n",
    "        pxx, freqs, bins, im = plt.specgram(data[:,0], Fs=FS, NFFT=512, noverlap=0)  # building plot and spectrogram\n",
    "    Tx = pxx.shape[1] # represents number of time steps in spectrogram\n",
    "    n_freq = pxx.shape[0] # represents number of frequencies in spectrogram\n",
    "    pxxtransposed = pxx.T\n",
    "    if count == 40:\n",
    "        print(\"file duration is \" + str(len(data) / float(FS)))\n",
    "        print(\"filename is \" + str(clipfilename))\n",
    "        print(\"number of channels is \" + str(data.ndim)) # 1 channel now because we are merging in stereo\n",
    "        print(\"num of time steps in spectrogram is \" + str(Tx))\n",
    "        print(\"num of frequencies in spectrogram is \" + str(n_freq))\n",
    "        print(\"shape of pxxtransposed is \" + str(pxxtransposed.shape))\n",
    "        plt.show() # plot the spectrogram\n",
    "    if count == 0:\n",
    "        preX = np.zeros((len(sortedclips), Tx, n_freq))\n",
    "        print(\"preX zeros shape is \" + str(preX.shape))\n",
    "    os.remove(clipfilepath)\n",
    "    preX[count] = pxxtransposed\n",
    "#     spectdata.append(pxxtransposed)\n",
    "#     np.save(xfolder + str(count) + '.txt', pxxtransposed)\n",
    "    count += 1\n",
    "\n",
    "\n"
   ]
  },
  {
   "cell_type": "markdown",
   "metadata": {},
   "source": [
    "### Preprocessing laugh labels\n",
    "\n",
    "* Creating dictionary of laugh labels for hand-labeled episodes."
   ]
  },
  {
   "cell_type": "code",
   "execution_count": null,
   "metadata": {},
   "outputs": [],
   "source": [
    "labeldict = {}\n",
    "\n",
    "for filename in os.listdir(laughlabelsfolder):\n",
    "    if not filename.startswith('.'):\n",
    "        season = filename[0:2]\n",
    "        episode = filename[2:4]\n",
    "        labeldict[season + episode] = []\n",
    "        htmlpath = laughlabelsfolder + filename\n",
    "        with open(htmlpath) as f:\n",
    "            for line in f:\n",
    "                if '\\\\' not in line:\n",
    "                    # converting to ms\n",
    "#                     print(season, episode)\n",
    "#                     print(line)\n",
    "                    pair = [float(i) * 1000 for i in line.split()]\n",
    "                    labeldict[season + episode].append(pair)\n",
    "                else:\n",
    "                    continue\n",
    "print(labeldict)"
   ]
  },
  {
   "cell_type": "markdown",
   "metadata": {},
   "source": [
    "### Creating Y numpy array of shape (number of clips, number of predicted timesteps, 1)"
   ]
  },
  {
   "cell_type": "code",
   "execution_count": null,
   "metadata": {},
   "outputs": [],
   "source": [
    "for i, info in enumerate(sortedclips):\n",
    "    season = info[0]\n",
    "    dictseason = str(season).zfill(2)\n",
    "    episode = info[1]\n",
    "    dictepisode = str(episode).zfill(2)\n",
    "    begtime = info[2]\n",
    "    endtime = info[3]\n",
    "    workinglabels = labeldict[dictseason + dictepisode]\n",
    "    cliplabels = []\n",
    "    increment = (endtime - begtime) / predtimesteps\n",
    "    for count in range(predtimesteps): # range is from 0 to end - 1 for example\n",
    "        # this skips t-0 as a timestep but includes last possible timestep (t-1000 if there are 1000 timesteps)\n",
    "        timestep = begtime + increment + (count * increment)\n",
    "        timesteplabel = 0\n",
    "        for pair in workinglabels:\n",
    "            if pair[0] <= timestep <= pair[1]:\n",
    "                timesteplabel = 1\n",
    "        cliplabels.append(timesteplabel)\n",
    "#     print(\"Length of cliplabels is \" + str(len(cliplabels)))\n",
    "    sortedclips[i].append(cliplabels)\n",
    "print(sortedclips)"
   ]
  },
  {
   "cell_type": "markdown",
   "metadata": {},
   "source": [
    "### Add lag to y-values (if any)\n",
    "\n",
    "Original thought was that some lag between the laughter and the laughter label could help the model learn faster. This didn't seem to be the case so we are not using any lag. "
   ]
  },
  {
   "cell_type": "code",
   "execution_count": null,
   "metadata": {},
   "outputs": [],
   "source": [
    "sortedlagclips = []\n",
    "\n",
    "for info in sortedclips:\n",
    "    beforelag = info[5]\n",
    "    afterlag = beforelag[:-lag or None]\n",
    "    pos = 0\n",
    "    value = 0\n",
    "    for i in range(lag):\n",
    "        afterlag.insert(pos, value)\n",
    "    sortedlagclips.append([info[0], info[1], info[2], info[3], info[4], afterlag])\n",
    "print(sortedlagclips)"
   ]
  },
  {
   "cell_type": "markdown",
   "metadata": {},
   "source": [
    "### Create y numpy array to be fed to model"
   ]
  },
  {
   "cell_type": "code",
   "execution_count": null,
   "metadata": {},
   "outputs": [],
   "source": [
    "preYlist = []\n",
    "\n",
    "for info in sortedlagclips:\n",
    "    labels = info[5]\n",
    "    preYlist.append(labels)\n",
    "preY = np.stack(preYlist, axis=0)\n",
    "preY = np.expand_dims(preY, axis=2)\n",
    "print(preY.shape)"
   ]
  },
  {
   "cell_type": "markdown",
   "metadata": {},
   "source": [
    "### Saving X and y locally in Kaggle (to be manipulated in the next notebook)"
   ]
  },
  {
   "cell_type": "code",
   "execution_count": null,
   "metadata": {},
   "outputs": [],
   "source": [
    "prexfolder = '/kaggle/working/prex/'\n",
    "preyfolder = '/kaggle/working/prey/'\n",
    "\n",
    "print(\"shape of preX is \" + str(preX.shape))\n",
    "print(\"shape of preY is \" + str(preY.shape))\n",
    "\n",
    "if os.path.exists(clipsfolder):\n",
    "    # deletes clips folder and all clips inside\n",
    "    shutil.rmtree(clipsfolder)\n",
    "if os.path.exists(prexfolder):\n",
    "    shutil.rmtree(prexfolder)\n",
    "if os.path.exists(preyfolder):\n",
    "    shutil.rmtree(preyfolder)\n",
    "\n",
    "os.makedirs(prexfolder)\n",
    "os.makedirs(preyfolder)\n",
    "\n",
    "np.save(prexfolder + 'prex.txt', preX)\n",
    "np.save(preyfolder + 'prey.txt', preY)\n"
   ]
  }
 ],
 "metadata": {
  "kernelspec": {
   "display_name": "Python 3",
   "language": "python",
   "name": "python3"
  },
  "language_info": {
   "codemirror_mode": {
    "name": "ipython",
    "version": 3
   },
   "file_extension": ".py",
   "mimetype": "text/x-python",
   "name": "python",
   "nbconvert_exporter": "python",
   "pygments_lexer": "ipython3",
   "version": "3.7.4"
  }
 },
 "nbformat": 4,
 "nbformat_minor": 4
}
