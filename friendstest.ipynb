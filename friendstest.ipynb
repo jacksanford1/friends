{
 "cells": [
  {
   "cell_type": "markdown",
   "metadata": {},
   "source": [
    "# Helper File\n",
    "\n",
    "Testing the accuracy of the 4 algorithms in predicting characters for subtitle lines in 4 random episodes (that I have hand-labeled answers for)"
   ]
  },
  {
   "cell_type": "code",
   "execution_count": null,
   "metadata": {},
   "outputs": [],
   "source": [
    "import sqlite3\n",
    "import os\n",
    "import re\n",
    "import numpy as np\n",
    "import pandas as pd"
   ]
  },
  {
   "cell_type": "code",
   "execution_count": null,
   "metadata": {},
   "outputs": [],
   "source": [
    "# Testing a couple episodes (every line)\n",
    "# 0201 is 89% guesses, 0908 is 99% guesses, 0512 is 95%\n",
    "episodestotest = ['0201', '0908', '0512', '0307']\n",
    "listfordf = []\n",
    "\n",
    "conn = sqlite3.connect('/Users/Jack/Developer/friends/friendsdb.sqlite')\n",
    "cur = conn.cursor()\n",
    "\n",
    "for seasep in episodestotest:\n",
    "\n",
    "    \n",
    "    season = int(seasep[0:2])\n",
    "    episode = int(seasep[2:4])\n",
    "    \n",
    "    cur.execute('''SELECT linenum, x FROM subs WHERE season=? AND episode=?''', (season, episode))\n",
    "    \n",
    "    for row in cur:\n",
    "        linenum = str(row[0])\n",
    "        x = row[1]\n",
    "        splitlinenum = re.findall('(\\d+|\\D+)',linenum)\n",
    "        num = int(splitlinenum[0])\n",
    "        letter = \"\"\n",
    "        if len(splitlinenum) > 1:\n",
    "            letter = splitlinenum[1]\n",
    "        listfordf.append([seasep, num, letter, x])\n",
    "listfordf = sorted(listfordf)\n",
    "for i, listitem in enumerate(listfordf):\n",
    "    seasep = listitem[0]\n",
    "    num = listitem[1]\n",
    "    letter = listitem[2]\n",
    "    x = listitem[3]\n",
    "    linenum = str(num) + str(letter)\n",
    "    listfordf[i] = [seasep, linenum, x]\n",
    "# print(listfordf)\n",
    "df = pd.DataFrame(listfordf, columns =['Episode', 'Linenum', 'X'])\n",
    "# print(df)\n",
    "df.to_csv('testepisodes2.csv', index=False)\n",
    "\n"
   ]
  },
  {
   "cell_type": "code",
   "execution_count": null,
   "metadata": {},
   "outputs": [],
   "source": [
    "# Getting missing lines from all seasons, all episodes\n",
    "def converttime(timestring):\n",
    "    ms = int(timestring[9:])\n",
    "    secs = int(timestring[6:8])\n",
    "    mins = int(timestring[3:5])\n",
    "    # not including ms here in order to \"round down\" to nearest second\n",
    "    total = int((mins*60) + secs)\n",
    "    return total\n",
    "\n",
    "\n",
    "charstobefound = []\n",
    "\n",
    "conn = sqlite3.connect('/Users/Jack/Developer/friends/friendsdb.sqlite')\n",
    "cur = conn.cursor()\n",
    "\n",
    "cur.execute('''SELECT season, episode, linenum, line, starttime FROM subs WHERE x='' ''')\n",
    "\n",
    "for row in cur:\n",
    "        season = row[0]\n",
    "        episode = row[1]\n",
    "        linenum = str(row[2])\n",
    "        line = row[3]\n",
    "        time = row[4]\n",
    "#         print(season, episode, linenum, line)\n",
    "        splitlinenum = re.findall('(\\d+|\\D+)',linenum)\n",
    "        num = int(splitlinenum[0])\n",
    "        letter = \"\"\n",
    "        if len(splitlinenum) > 1:\n",
    "            letter = splitlinenum[1]\n",
    "        charstobefound.append([season, episode, num, letter, line, time])\n",
    "charstobefound = sorted(charstobefound)\n",
    "for i, listitem in enumerate(charstobefound):\n",
    "    season = listitem[0]\n",
    "    episode = listitem[1]\n",
    "    num = listitem[2]\n",
    "    letter = listitem[3]\n",
    "    line = listitem[4]\n",
    "    time = converttime(listitem[5])\n",
    "    linenum = str(num) + str(letter)\n",
    "    charstobefound[i] = [season, episode, linenum, line, time]\n",
    "print(charstobefound)\n",
    "df = pd.DataFrame(charstobefound, columns =['Season', 'Episode', 'Linenum', 'Line', 'Time'])\n",
    "# print(df)\n",
    "df.to_csv('charstobefound.csv', index=False)\n"
   ]
  },
  {
   "cell_type": "code",
   "execution_count": null,
   "metadata": {},
   "outputs": [],
   "source": []
  }
 ],
 "metadata": {
  "kernelspec": {
   "display_name": "Python 3",
   "language": "python",
   "name": "python3"
  },
  "language_info": {
   "codemirror_mode": {
    "name": "ipython",
    "version": 3
   },
   "file_extension": ".py",
   "mimetype": "text/x-python",
   "name": "python",
   "nbconvert_exporter": "python",
   "pygments_lexer": "ipython3",
   "version": "3.7.4"
  }
 },
 "nbformat": 4,
 "nbformat_minor": 2
}
