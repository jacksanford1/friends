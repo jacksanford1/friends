{
 "cells": [
  {
   "cell_type": "markdown",
   "metadata": {},
   "source": [
    "# Preprocessing for SQLite Database\n",
    "\n",
    "In this notebook, we read in the raw script and subtitles files and process the files in order to get the basic information from each file. Then we input the clean, organized data into a SQLite database. "
   ]
  },
  {
   "cell_type": "code",
   "execution_count": null,
   "metadata": {},
   "outputs": [],
   "source": [
    "from bs4 import BeautifulSoup\n",
    "import IPython\n",
    "import re\n",
    "import sqlite3\n",
    "import os"
   ]
  },
  {
   "cell_type": "markdown",
   "metadata": {},
   "source": [
    "### Creating friendsdb SQLite database and script table"
   ]
  },
  {
   "cell_type": "code",
   "execution_count": null,
   "metadata": {},
   "outputs": [],
   "source": [
    "conn = sqlite3.connect('/Users/Jack/Developer/friends/friendsdb.sqlite')\n",
    "cur = conn.cursor()\n",
    "\n",
    "cur.executescript('''\n",
    "CREATE TABLE IF NOT EXISTS script (\n",
    "    id INTEGER NOT NULL PRIMARY KEY AUTOINCREMENT UNIQUE,\n",
    "    season INTEGER,\n",
    "    episode INTEGER,\n",
    "    linecount INTEGER,\n",
    "    char TEXT,\n",
    "    words TEXT,\n",
    "    UNIQUE(season, episode, linecount)\n",
    ");\n",
    "''')"
   ]
  },
  {
   "cell_type": "markdown",
   "metadata": {},
   "source": [
    "### Utility for finding multiple characters in a paragraph in script"
   ]
  },
  {
   "cell_type": "code",
   "execution_count": null,
   "metadata": {},
   "outputs": [],
   "source": [
    "def find_nth(string, substring, n):\n",
    "   if (n == 1):\n",
    "       return string.find(substring)\n",
    "   else:\n",
    "       return string.find(substring, find_nth(string, substring, n - 1) + 1)"
   ]
  },
  {
   "cell_type": "markdown",
   "metadata": {},
   "source": [
    "### Preprocessing Script File\n",
    "\n",
    "We read in the scripts one by one and use Beautiful Soup to clean up the HTML. Then we apply regex to separate the characters from the spoken lines. There are a ton of inconsistencies and irregularities in the script files so the regex expressions and various other filters are quite numerous. But eventually we output a dictionary where the keys delineate the specific episode and the values are lists containing the character and the line spoken by that character. "
   ]
  },
  {
   "cell_type": "code",
   "execution_count": null,
   "metadata": {},
   "outputs": [],
   "source": [
    "count = 0\n",
    "scriptsfolder = '/Users/Jack/Developer/friends/scripts/'\n",
    "masterscriptsdict = {}\n",
    "listofallchars = []\n",
    "episodelist = []\n",
    "\n",
    "for filename in os.listdir(scriptsfolder):\n",
    "    if not filename.startswith('.'):\n",
    "        season = filename[:2]\n",
    "        episode = filename[2:4]\n",
    "\n",
    "        preSQLscript = []\n",
    "        rawlines = []\n",
    "#         print(\"season is \" + str(season))\n",
    "#         print(\"episode is \" + str(episode))\n",
    "    #     count += 1\n",
    "    #     print(\"count is \" + str(count))\n",
    "\n",
    "        htmlpath = scriptsfolder + filename\n",
    "        # Note: we get errors unless we specify latin-1 encoding\n",
    "        with open(htmlpath, \"r\", encoding='latin-1') as s:\n",
    "            contents = s.read()\n",
    "            soup = BeautifulSoup(contents, 'lxml')\n",
    "\n",
    "            for body in soup.find_all(\"body\"):\n",
    "                text = body.text\n",
    "                lines = text.split(\"\\n\")\n",
    "#                     if season == \"09\" and episode == \"08\":\n",
    "#                         print(lines)\n",
    "                pattern = re.compile(r\"^[A-Z][a-zA-Z,. ]+:\")\n",
    "                for line in lines:\n",
    "                    # remove everything in () from line\n",
    "                    line = re.sub(\"\\([^)]*\\)\", \"\", line)\n",
    "                    # remove everything in [] from line\n",
    "                    line = re.sub(\"\\[[^]]*\\]\", \"\", line)\n",
    "                    # remove everything in <> from line\n",
    "                    line = re.sub(\"\\<[^]]*\\>\", \"\", line)\n",
    "                    # remove everything in {} from line\n",
    "                    line = re.sub(\"\\{[^]]*\\}\", \"\", line)\n",
    "                    # remove everything in [) from line, yes some transcriber used this nomenclature\n",
    "                    line = re.sub(\"\\[[^]]*\\)\", \"\", line)\n",
    "                    line = line.strip()\n",
    "                    # check for \" by:\"\n",
    "                    if \" by:\" in line.lower():\n",
    "                        line = \"\"\n",
    "                    # split char from line\n",
    "                    if re.search(pattern, line):\n",
    "                        rawlines.append([line])\n",
    "                    else:\n",
    "                        if rawlines and line:\n",
    "                            if line.lower().strip() not in [\"opening credits\", \"opening titles\", \"closing credits\", \"closing titles\", \"commercial break\", \"end\"]:\n",
    "                                rawlines[-1].append(line)\n",
    "                rawlines = [\" \".join(linegroup) for linegroup in rawlines]\n",
    "                rawlines = [re.sub(r'[^\\x00-\\x7f]',r' ', line)  for line in rawlines]\n",
    "                for line in rawlines:\n",
    "                    # remove everything in () from line\n",
    "                    line = re.sub(\"\\([^)]*\\)\", \"\", line)\n",
    "                    # remove everything in [] from line\n",
    "                    line = re.sub(\"\\[[^]]*\\]\", \"\", line)\n",
    "                    # remove everything in <> from line\n",
    "                    line = re.sub(\"\\<[^]]*\\>\", \"\", line)\n",
    "                    # remove everything in {} from line\n",
    "                    line = re.sub(\"\\{[^]]*\\}\", \"\", line)\n",
    "                    # remove everything in [) from line, yes some transcriber used this nomenclature\n",
    "                    line = re.sub(\"\\[[^]]*\\)\", \"\", line)\n",
    "                    # split char from line\n",
    "                    line = line.strip()\n",
    "                    if \":\" in line:\n",
    "                        colonsplit = line.split(':', 1)\n",
    "                        char = colonsplit[0]\n",
    "                        line = colonsplit[1]\n",
    "    #                     make all words lowercase\n",
    "                        line = line.lower()\n",
    "                        line = line.strip()\n",
    "                        # remove all punctuation\n",
    "                        line = re.sub(\"[^\\w]\", \" \",  line)\n",
    "\n",
    "                        # Dealing with Season 9, Episode 8 super long char names\n",
    "                        if season == \"09\" and episode == \"08\":\n",
    "#                                 print(char)\n",
    "                            charlist = char.split()\n",
    "                            if len(charlist) > 2:\n",
    "                                if charlist[1] == \"and\":\n",
    "                                    char = ' '.join(charlist[0:3])\n",
    "                                else:\n",
    "                                    char = charlist[0]\n",
    "                            else:\n",
    "                                char = charlist[0]\n",
    "\n",
    "                        # To easily see all char names (for checking)\n",
    "                        if char not in listofallchars:\n",
    "                            listofallchars.append(char)\n",
    "\n",
    "                        if [season + episode] not in episodelist:\n",
    "                            episodelist.append([season + episode])\n",
    "\n",
    "                        # adding char and their line to the database\n",
    "                        preSQLscript.append([char, line])\n",
    "\n",
    "                if (season == \"09\" and episode == \"08\"):\n",
    "                    print(preSQLscript)\n",
    "\n",
    "        masterscriptsdict[season + episode] = preSQLscript\n",
    "# print(len(episodelist))\n",
    "# print(sorted(episodelist))"
   ]
  },
  {
   "cell_type": "markdown",
   "metadata": {},
   "source": [
    "### Putting each line of script into script table in friendsdb database"
   ]
  },
  {
   "cell_type": "code",
   "execution_count": null,
   "metadata": {},
   "outputs": [],
   "source": [
    "count = 0\n",
    "for key, script in masterscriptsdict.items():\n",
    "    season = int(key[0:2])\n",
    "    episode = int(key[2:4])\n",
    "    count += 1\n",
    "    print(count)\n",
    "    for i, line in enumerate(script):\n",
    "        linecount = i\n",
    "        char = line[0]\n",
    "        words = line[1]\n",
    "        cur.execute('''INSERT OR REPLACE INTO script (season, episode, linecount, char, words)\n",
    "            VALUES ( ?, ?, ?, ?, ? )''', ( season, episode, linecount, char, words ) )\n",
    "        conn.commit()"
   ]
  },
  {
   "cell_type": "markdown",
   "metadata": {},
   "source": [
    "### Now repeating the process for the subtitles files\n",
    "\n",
    "We begin by creating the subtitles table in the SQLite database. This table will eventually contain our \"guesses\" for which character speaks a specific line."
   ]
  },
  {
   "cell_type": "code",
   "execution_count": null,
   "metadata": {},
   "outputs": [],
   "source": [
    "# Creating subs SQLite table\n",
    "conn = sqlite3.connect('/Users/Jack/Developer/friends/friendsdb.sqlite')\n",
    "cur = conn.cursor()\n",
    "\n",
    "cur.executescript('''\n",
    "CREATE TABLE IF NOT EXISTS subs (\n",
    "    id INTEGER NOT NULL PRIMARY KEY AUTOINCREMENT UNIQUE,\n",
    "    season INTEGER,\n",
    "    episode INTEGER,\n",
    "    starttime TEXT,\n",
    "    endtime TEXT,\n",
    "    x TEXT,\n",
    "    y TEXT,\n",
    "    linenum INTEGER,\n",
    "    line TEXT,\n",
    "    UNIQUE(season, episode, linenum)\n",
    ");\n",
    "''')"
   ]
  },
  {
   "cell_type": "markdown",
   "metadata": {},
   "source": [
    "### Defining a few functions that will help us process the subtitles file"
   ]
  },
  {
   "cell_type": "code",
   "execution_count": null,
   "metadata": {},
   "outputs": [],
   "source": [
    "def getcharfromline(line):\n",
    "    char = \"\"\n",
    "    lineparthascolon = line.find(\":\")\n",
    "    if lineparthascolon != -1:\n",
    "        if line[lineparthascolon - 1].isupper():\n",
    "            char = line[:lineparthascolon]\n",
    "            wordsstart = lineparthascolon + 1\n",
    "            line = line[wordsstart:].strip()\n",
    "    return char, line\n",
    "\n",
    "def startswithdash(line):\n",
    "    if line:\n",
    "        if line[0] == \"-\":\n",
    "            return True\n",
    "        else:\n",
    "            return False\n",
    "\n",
    "def preprocess(line):\n",
    "    # make lowercase\n",
    "    line = line.lower()\n",
    "    # remove everything in () from words\n",
    "    line = re.sub(\"\\([^)]*\\)\", \"\", line)\n",
    "    # remove everything in [] from words\n",
    "    line = re.sub(\"\\[[^]]*\\]\", \"\", line)\n",
    "    # remove all punctuation\n",
    "    line = re.sub(\"[^\\w]\", \" \",  line)\n",
    "    # strip whitespaces\n",
    "    line = line.strip()\n",
    "    return line"
   ]
  },
  {
   "cell_type": "markdown",
   "metadata": {},
   "source": [
    "### Preprocessing the subtitles files\n",
    "\n",
    "The subtitles files have a very consistent format and so they are easier to parse. There are some tricky edge cases here (sometimes two characters speak in the same timeframe, sometimes one characters speaks two lines in thes same timeframe) but overall it is easier to parse than the script file. We end up with a dictionary where the keys are specific episodes and the values are a dictionary where the keys are line numbers and the values are the info from that line (start time, end time, character, line). "
   ]
  },
  {
   "cell_type": "code",
   "execution_count": null,
   "metadata": {},
   "outputs": [],
   "source": [
    "subsfolder = '/Users/Jack/Developer/friends/subs/'\n",
    "masterpreSQLsubdict = {}\n",
    "\n",
    "for filename in os.listdir(subsfolder):\n",
    "    if not filename.startswith('.'):\n",
    "        # getting season, episode part of filename\n",
    "        episodesubdict = {}\n",
    "        info = filename.split('.')[1]\n",
    "        season = info[1:3]\n",
    "        episode = info[4:6]\n",
    "        subspath = subsfolder + filename\n",
    "        subfile = open(subspath, \"r\")\n",
    "        lines = subfile.readlines()\n",
    "        # using groupby to group raw lines in subtitles files (splitting on lines equal to \\n)\n",
    "        # makes a list with the linenum in first pos, start/end time in second pos, words in 3rd (and 4th) pos\n",
    "        from itertools import groupby\n",
    "        linegroups = [list(group) for k, group in groupby(lines, lambda x: x == \"\\n\") if not k]\n",
    "\n",
    "        for group in linegroups:\n",
    "            # using regex to get linenum from first line\n",
    "            linenum = re.findall('\\d+', group[0])[0]\n",
    "            # retrieving start and end times for line\n",
    "            timesplit = group[1].split()\n",
    "            starttime = timesplit[0]\n",
    "            endtime = timesplit[2]\n",
    "\n",
    "            lineAchar = \"\"\n",
    "            lineBchar = \"\"\n",
    "            lineA = group[2].strip()\n",
    "            if len(group) == 3:\n",
    "                lineB = \"\"\n",
    "                lineAchar, lineA = getcharfromline(lineA)\n",
    "            elif len(group) > 3:\n",
    "                lineB = group[3].strip()\n",
    "                # find would return -1 if : is not found\n",
    "                lineAchar, lineA = getcharfromline(lineA)\n",
    "                lineBchar, lineB = getcharfromline(lineB)\n",
    "                lineAstartdash = startswithdash(lineA)\n",
    "                lineBstartdash = startswithdash(lineB)\n",
    "                # this is for case where line B is spoken by same person as line A\n",
    "                if not lineBchar and not lineBstartdash and not lineAstartdash:\n",
    "                    lineA = lineA + \" \" + lineB\n",
    "                    lineB = \"\"\n",
    "            else:\n",
    "                continue\n",
    "            lineA = preprocess(lineA)\n",
    "            lineB = preprocess(lineB)\n",
    "            if lineA and not lineB:\n",
    "                episodesubdict[linenum] = [season, episode, starttime, endtime, lineAchar, lineA]\n",
    "            elif lineA and lineB:\n",
    "                episodesubdict[linenum + \"A\"] = [season, episode, starttime, endtime, lineAchar, lineA]\n",
    "                episodesubdict[linenum + \"B\"] = [season, episode, starttime, endtime, lineBchar, lineB]\n",
    "            else:\n",
    "                continue\n",
    "        masterpreSQLsubdict[season + episode] = episodesubdict"
   ]
  },
  {
   "cell_type": "markdown",
   "metadata": {},
   "source": [
    "### Inserting organized subtitles data into SQLite database"
   ]
  },
  {
   "cell_type": "code",
   "execution_count": null,
   "metadata": {},
   "outputs": [],
   "source": [
    "# preSQLsublinedict convention is that key is the line number (no a or b or anything), then values is list starting with startime, endtime, x, y, partA line, partB line\n",
    "# need to update below to account for x and y being added in\n",
    "\n",
    "# Putting each linepart of subs into subs table in friendsdb database\n",
    "for seasep, episodeinfo in masterpreSQLsubdict.items():\n",
    "#     print(episodeinfo)\n",
    "    for linenum, lineinfo in episodeinfo.items():\n",
    "        season = lineinfo[0]\n",
    "        episode = lineinfo[1]\n",
    "        starttime = lineinfo[2]\n",
    "        endtime = lineinfo[3]\n",
    "        char = lineinfo[4]\n",
    "        line = lineinfo[5]\n",
    "        x = \"\"\n",
    "#         print(char)\n",
    "        cur.execute('''INSERT OR REPLACE INTO subs (season, episode, starttime, endtime, x, y, linenum, line)\n",
    "            VALUES ( ?, ?, ?, ?, ?, ?, ?, ? )''', ( season, episode, starttime, endtime, x, char, linenum, line ) )\n",
    "\n",
    "        conn.commit()"
   ]
  },
  {
   "cell_type": "code",
   "execution_count": null,
   "metadata": {},
   "outputs": [],
   "source": []
  }
 ],
 "metadata": {
  "kernelspec": {
   "display_name": "Python 3",
   "language": "python",
   "name": "python3"
  },
  "language_info": {
   "codemirror_mode": {
    "name": "ipython",
    "version": 3
   },
   "file_extension": ".py",
   "mimetype": "text/x-python",
   "name": "python",
   "nbconvert_exporter": "python",
   "pygments_lexer": "ipython3",
   "version": "3.7.4"
  }
 },
 "nbformat": 4,
 "nbformat_minor": 2
}
